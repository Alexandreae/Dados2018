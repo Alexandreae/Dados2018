{
 "cells": [
  {
   "cell_type": "markdown",
   "metadata": {},
   "source": [
    "___\n",
    "# Ciência dos Dados - PROJETO 1"
   ]
  },
  {
   "cell_type": "markdown",
   "metadata": {},
   "source": [
    "## Alexandre Almeida Edington"
   ]
  },
  {
   "cell_type": "markdown",
   "metadata": {},
   "source": [
    "## Análise da evolução do nível médio de ensino dos brasileiros separado por região do país"
   ]
  },
  {
   "cell_type": "markdown",
   "metadata": {},
   "source": [
    "___\n",
    "## Introdução\n",
    "\n",
    "Este projeto pretente analisar o nível médio de ensino de brasileiros em diferentes idades, a fim de interpretar um avanço ou regressão na escolaridade ao longo do últimio século. Para que o projeto fique m, cada região do país terá sua própria análise e conclusão."
   ]
  },
  {
   "cell_type": "markdown",
   "metadata": {},
   "source": [
    "___\n",
    "## Filtros da base de dados"
   ]
  },
  {
   "cell_type": "code",
   "execution_count": 1,
   "metadata": {},
   "outputs": [],
   "source": [
    "%matplotlib inline\n",
    "import pandas as pd\n",
    "import matplotlib.pyplot as plt\n",
    "import numpy as np\n",
    "import os"
   ]
  },
  {
   "cell_type": "code",
   "execution_count": 2,
   "metadata": {},
   "outputs": [
    {
     "name": "stdout",
     "output_type": "stream",
     "text": [
      "Esperamos trabalhar no diretório\n",
      "C:\\Users\\Alexandre\\Desktop\\semestre3\\Dados\\Projeto1\n"
     ]
    }
   ],
   "source": [
    "print('Esperamos trabalhar no diretório')\n",
    "print(os.getcwd())"
   ]
  },
  {
   "cell_type": "code",
   "execution_count": 3,
   "metadata": {
    "scrolled": true
   },
   "outputs": [],
   "source": [
    "pnad=pd.read_csv('PES2011csv.zip', compression='zip', header=0, sep=',', quotechar='\"')"
   ]
  },
  {
   "cell_type": "code",
   "execution_count": 4,
   "metadata": {
    "scrolled": true
   },
   "outputs": [],
   "source": [
    "#colunas que serão usadas:\n",
    "#V8005 - idade\n",
    "#V5030 - região\n",
    "#V6007 - ensino\n",
    "#V0601 - analfabetismo\n",
    "#V0609 - teste_ensino"
   ]
  },
  {
   "cell_type": "code",
   "execution_count": 5,
   "metadata": {},
   "outputs": [
    {
     "name": "stderr",
     "output_type": "stream",
     "text": [
      "C:\\Users\\Alexandre\\Anaconda3\\lib\\site-packages\\ipykernel_launcher.py:2: SettingWithCopyWarning: \n",
      "A value is trying to be set on a copy of a slice from a DataFrame.\n",
      "Try using .loc[row_indexer,col_indexer] = value instead\n",
      "\n",
      "See the caveats in the documentation: http://pandas.pydata.org/pandas-docs/stable/indexing.html#indexing-view-versus-copy\n",
      "  \n",
      "C:\\Users\\Alexandre\\Anaconda3\\lib\\site-packages\\ipykernel_launcher.py:3: SettingWithCopyWarning: \n",
      "A value is trying to be set on a copy of a slice from a DataFrame.\n",
      "Try using .loc[row_indexer,col_indexer] = value instead\n",
      "\n",
      "See the caveats in the documentation: http://pandas.pydata.org/pandas-docs/stable/indexing.html#indexing-view-versus-copy\n",
      "  This is separate from the ipykernel package so we can avoid doing imports until\n",
      "C:\\Users\\Alexandre\\Anaconda3\\lib\\site-packages\\ipykernel_launcher.py:4: SettingWithCopyWarning: \n",
      "A value is trying to be set on a copy of a slice from a DataFrame.\n",
      "Try using .loc[row_indexer,col_indexer] = value instead\n",
      "\n",
      "See the caveats in the documentation: http://pandas.pydata.org/pandas-docs/stable/indexing.html#indexing-view-versus-copy\n",
      "  after removing the cwd from sys.path.\n",
      "C:\\Users\\Alexandre\\Anaconda3\\lib\\site-packages\\ipykernel_launcher.py:5: SettingWithCopyWarning: \n",
      "A value is trying to be set on a copy of a slice from a DataFrame.\n",
      "Try using .loc[row_indexer,col_indexer] = value instead\n",
      "\n",
      "See the caveats in the documentation: http://pandas.pydata.org/pandas-docs/stable/indexing.html#indexing-view-versus-copy\n",
      "  \"\"\"\n",
      "C:\\Users\\Alexandre\\Anaconda3\\lib\\site-packages\\ipykernel_launcher.py:6: SettingWithCopyWarning: \n",
      "A value is trying to be set on a copy of a slice from a DataFrame.\n",
      "Try using .loc[row_indexer,col_indexer] = value instead\n",
      "\n",
      "See the caveats in the documentation: http://pandas.pydata.org/pandas-docs/stable/indexing.html#indexing-view-versus-copy\n",
      "  \n"
     ]
    }
   ],
   "source": [
    "df=pnad[[\"V8005\",\"V0302\",\"V5030\",\"V6007\",\"V0601\",\"V0609\"]]\n",
    "df[\"IDADE\"]=df[\"V8005\"]\n",
    "df[\"REGIAO\"]=df[\"V5030\"]\n",
    "df[\"ENSINO\"]=df[\"V6007\"]\n",
    "df[\"ANALFABETISMO\"]=df[\"V0601\"]\n",
    "df[\"TESTE\"]=df[\"V0609\"]\n",
    "del df[\"V8005\"]\n",
    "del df[\"V5030\"]\n",
    "del df[\"V6007\"]\n",
    "del df[\"V0601\"]\n",
    "del df[\"V0609\"]\n",
    "df=df.reset_index()\n",
    "del df[\"index\"]\n",
    "#df=df.loc[0:99999]"
   ]
  },
  {
   "cell_type": "markdown",
   "metadata": {},
   "source": [
    "Nessa parte, estamos adicionando a categoria \"analfabeto\" como uma das possibilidades de nível de ensino. Além disso, estamos usando a coluna \"TESTE\" para verificar se cada indivíduo completou pelo menos um ano do curso mais avançado que afirmou ter feito."
   ]
  },
  {
   "cell_type": "code",
   "execution_count": 6,
   "metadata": {},
   "outputs": [
    {
     "name": "stderr",
     "output_type": "stream",
     "text": [
      "C:\\Users\\Alexandre\\Anaconda3\\lib\\site-packages\\ipykernel_launcher.py:5: SettingWithCopyWarning: \n",
      "A value is trying to be set on a copy of a slice from a DataFrame\n",
      "\n",
      "See the caveats in the documentation: http://pandas.pydata.org/pandas-docs/stable/indexing.html#indexing-view-versus-copy\n",
      "  \"\"\"\n",
      "C:\\Users\\Alexandre\\Anaconda3\\lib\\site-packages\\ipykernel_launcher.py:10: SettingWithCopyWarning: \n",
      "A value is trying to be set on a copy of a slice from a DataFrame\n",
      "\n",
      "See the caveats in the documentation: http://pandas.pydata.org/pandas-docs/stable/indexing.html#indexing-view-versus-copy\n",
      "  # Remove the CWD from sys.path while we load stuff.\n"
     ]
    }
   ],
   "source": [
    "for x in range(len(df.IDADE)):\n",
    "    i=df.ANALFABETISMO[x]\n",
    "    if i == 3:\n",
    "        j = 14\n",
    "        df.ENSINO[x]=j\n",
    "    else:\n",
    "        j = df.TESTE[x]\n",
    "        if j == 3:\n",
    "            j = df.ENSINO[x]-1\n",
    "            df.ENSINO[x]=j\n",
    "            \n",
    "del df[\"ANALFABETISMO\"]\n",
    "del df[\"TESTE\"]\n",
    "df=df.dropna(how=\"any\")"
   ]
  },
  {
   "cell_type": "markdown",
   "metadata": {},
   "source": [
    "Aqui, estamos agrupando as pessoas em grupos por idade. Por exemplo, indivíduos de 90 a 99 anos serão agrupados como \"90\". Nesse setor também desconsideramos pessoas com mais de 99 anos ou menos de 30. Isso acontece para termos um estudo mais preciso, e para que as pessoas estudadas tenham tempo suficiente para chegarem aos níveis superiores de ensino.\n"
   ]
  },
  {
   "cell_type": "code",
   "execution_count": 7,
   "metadata": {},
   "outputs": [
    {
     "name": "stderr",
     "output_type": "stream",
     "text": [
      "C:\\Users\\Alexandre\\Anaconda3\\lib\\site-packages\\ipykernel_launcher.py:24: SettingWithCopyWarning: \n",
      "A value is trying to be set on a copy of a slice from a DataFrame\n",
      "\n",
      "See the caveats in the documentation: http://pandas.pydata.org/pandas-docs/stable/indexing.html#indexing-view-versus-copy\n",
      "C:\\Users\\Alexandre\\Anaconda3\\lib\\site-packages\\pandas\\core\\indexing.py:194: SettingWithCopyWarning: \n",
      "A value is trying to be set on a copy of a slice from a DataFrame\n",
      "\n",
      "See the caveats in the documentation: http://pandas.pydata.org/pandas-docs/stable/indexing.html#indexing-view-versus-copy\n",
      "  self._setitem_with_indexer(indexer, value)\n"
     ]
    }
   ],
   "source": [
    "df=df.reset_index()\n",
    "del df[\"index\"]\n",
    "\n",
    "for x in range(len(df.IDADE)):\n",
    "    i=df.IDADE[x]\n",
    "    if i < 30:\n",
    "        i = np.nan\n",
    "    elif i > 99:\n",
    "        i = np.nan\n",
    "    elif i > 89:\n",
    "        i = 90\n",
    "    elif i > 79:\n",
    "        i = 80\n",
    "    elif i > 69:\n",
    "        i = 70\n",
    "    elif i > 59:\n",
    "        i = 60\n",
    "    elif i > 49:\n",
    "        i = 50\n",
    "    elif i > 39:\n",
    "        i = 40\n",
    "    elif i > 29:\n",
    "        i = 30   \n",
    "    df.IDADE[x]=i\n",
    "    \n",
    "df=df.dropna(how=\"any\")"
   ]
  },
  {
   "cell_type": "code",
   "execution_count": 8,
   "metadata": {
    "scrolled": true
   },
   "outputs": [
    {
     "name": "stderr",
     "output_type": "stream",
     "text": [
      "C:\\Users\\Alexandre\\Anaconda3\\lib\\site-packages\\ipykernel_launcher.py:26: SettingWithCopyWarning: \n",
      "A value is trying to be set on a copy of a slice from a DataFrame\n",
      "\n",
      "See the caveats in the documentation: http://pandas.pydata.org/pandas-docs/stable/indexing.html#indexing-view-versus-copy\n",
      "C:\\Users\\Alexandre\\Anaconda3\\lib\\site-packages\\pandas\\core\\indexing.py:194: SettingWithCopyWarning: \n",
      "A value is trying to be set on a copy of a slice from a DataFrame\n",
      "\n",
      "See the caveats in the documentation: http://pandas.pydata.org/pandas-docs/stable/indexing.html#indexing-view-versus-copy\n",
      "  self._setitem_with_indexer(indexer, value)\n"
     ]
    }
   ],
   "source": [
    "#Separando as pessoas por região do país.\n",
    "\n",
    "norte=[11,12,13,14,15,16,17]\n",
    "nordeste=[21,22,23,24,25,26,27,28,29]\n",
    "sudeste=[31,32,33,34,35]\n",
    "sul=[41,42,43]\n",
    "centrooeste=[51,52,53]\n",
    "\n",
    "df=df.reset_index()\n",
    "del df[\"index\"]\n",
    "\n",
    "for x in range(len(df.REGIAO)):\n",
    "    i=df.REGIAO[x]\n",
    "    if i in norte:\n",
    "        i = \"Norte\"\n",
    "    elif i in nordeste:\n",
    "        i = \"Nordeste\"\n",
    "    elif i in sudeste:\n",
    "        i = \"Sudeste\"\n",
    "    elif i in sul:\n",
    "        i = \"Sul\"\n",
    "    elif i in centrooeste:\n",
    "        i = \"Centro Oeste\"\n",
    "    else:\n",
    "        i = np.nan\n",
    "    df.REGIAO[x]=i\n",
    "    \n",
    "df=df.dropna(how=\"any\")"
   ]
  },
  {
   "cell_type": "code",
   "execution_count": 9,
   "metadata": {},
   "outputs": [
    {
     "name": "stderr",
     "output_type": "stream",
     "text": [
      "C:\\Users\\Alexandre\\Anaconda3\\lib\\site-packages\\ipykernel_launcher.py:26: SettingWithCopyWarning: \n",
      "A value is trying to be set on a copy of a slice from a DataFrame\n",
      "\n",
      "See the caveats in the documentation: http://pandas.pydata.org/pandas-docs/stable/indexing.html#indexing-view-versus-copy\n"
     ]
    }
   ],
   "source": [
    "#Transformando níveis de ensino em categorias.\n",
    "\n",
    "primario=[1,10,11,12,13]\n",
    "fundamental=[4,6]\n",
    "colegial=[2,3,5,7]\n",
    "superior=[8,9]\n",
    "analfabeto=[14]\n",
    "\n",
    "df=df.reset_index()\n",
    "del df[\"index\"]\n",
    "\n",
    "for x in range(len(df.ENSINO)):\n",
    "    i=df.ENSINO[x]\n",
    "    if i in primario:\n",
    "        i = 2\n",
    "    elif i in fundamental:\n",
    "        i = 3\n",
    "    elif i in colegial:\n",
    "        i = 4\n",
    "    elif i in superior:\n",
    "        i = 5\n",
    "    elif i in analfabeto:\n",
    "        i = 1\n",
    "    else:\n",
    "        i = np.nan\n",
    "    df.ENSINO[x]=i\n",
    "    \n",
    "df=df.dropna(how=\"any\")\n",
    "df.ENSINO = df.ENSINO.astype(\"category\")\n",
    "df.ENSINO.cat.categories=([\"Analfabeto\",\"Primario\",\"Fundamental\",\"Colegial\",\"Superior\"])\n",
    "df=df.reset_index()\n",
    "del df[\"index\"]"
   ]
  },
  {
   "cell_type": "markdown",
   "metadata": {},
   "source": [
    "___\n",
    "## Análise e Resultados"
   ]
  },
  {
   "cell_type": "code",
   "execution_count": 10,
   "metadata": {},
   "outputs": [
    {
     "data": {
      "text/html": [
       "<div>\n",
       "<style scoped>\n",
       "    .dataframe tbody tr th:only-of-type {\n",
       "        vertical-align: middle;\n",
       "    }\n",
       "\n",
       "    .dataframe tbody tr th {\n",
       "        vertical-align: top;\n",
       "    }\n",
       "\n",
       "    .dataframe thead th {\n",
       "        text-align: right;\n",
       "    }\n",
       "</style>\n",
       "<table border=\"1\" class=\"dataframe\">\n",
       "  <thead>\n",
       "    <tr style=\"text-align: right;\">\n",
       "      <th>ENSINO</th>\n",
       "      <th>Analfabeto</th>\n",
       "      <th>Primario</th>\n",
       "      <th>Fundamental</th>\n",
       "      <th>Colegial</th>\n",
       "      <th>Superior</th>\n",
       "    </tr>\n",
       "    <tr>\n",
       "      <th>IDADE</th>\n",
       "      <th></th>\n",
       "      <th></th>\n",
       "      <th></th>\n",
       "      <th></th>\n",
       "      <th></th>\n",
       "    </tr>\n",
       "  </thead>\n",
       "  <tbody>\n",
       "    <tr>\n",
       "      <th>30.0</th>\n",
       "      <td>0.048467</td>\n",
       "      <td>0.002757</td>\n",
       "      <td>0.390816</td>\n",
       "      <td>0.407891</td>\n",
       "      <td>0.150069</td>\n",
       "    </tr>\n",
       "    <tr>\n",
       "      <th>40.0</th>\n",
       "      <td>0.081302</td>\n",
       "      <td>0.084298</td>\n",
       "      <td>0.344628</td>\n",
       "      <td>0.339153</td>\n",
       "      <td>0.150620</td>\n",
       "    </tr>\n",
       "    <tr>\n",
       "      <th>50.0</th>\n",
       "      <td>0.126579</td>\n",
       "      <td>0.293707</td>\n",
       "      <td>0.136446</td>\n",
       "      <td>0.318012</td>\n",
       "      <td>0.125256</td>\n",
       "    </tr>\n",
       "    <tr>\n",
       "      <th>60.0</th>\n",
       "      <td>0.236924</td>\n",
       "      <td>0.354656</td>\n",
       "      <td>0.066156</td>\n",
       "      <td>0.244760</td>\n",
       "      <td>0.097503</td>\n",
       "    </tr>\n",
       "    <tr>\n",
       "      <th>70.0</th>\n",
       "      <td>0.340501</td>\n",
       "      <td>0.384914</td>\n",
       "      <td>0.036306</td>\n",
       "      <td>0.173070</td>\n",
       "      <td>0.065210</td>\n",
       "    </tr>\n",
       "    <tr>\n",
       "      <th>80.0</th>\n",
       "      <td>0.426441</td>\n",
       "      <td>0.349901</td>\n",
       "      <td>0.023857</td>\n",
       "      <td>0.152087</td>\n",
       "      <td>0.047714</td>\n",
       "    </tr>\n",
       "    <tr>\n",
       "      <th>90.0</th>\n",
       "      <td>0.540373</td>\n",
       "      <td>0.322981</td>\n",
       "      <td>0.012422</td>\n",
       "      <td>0.093168</td>\n",
       "      <td>0.031056</td>\n",
       "    </tr>\n",
       "  </tbody>\n",
       "</table>\n",
       "</div>"
      ],
      "text/plain": [
       "ENSINO  Analfabeto  Primario  Fundamental  Colegial  Superior\n",
       "IDADE                                                        \n",
       "30.0      0.048467  0.002757     0.390816  0.407891  0.150069\n",
       "40.0      0.081302  0.084298     0.344628  0.339153  0.150620\n",
       "50.0      0.126579  0.293707     0.136446  0.318012  0.125256\n",
       "60.0      0.236924  0.354656     0.066156  0.244760  0.097503\n",
       "70.0      0.340501  0.384914     0.036306  0.173070  0.065210\n",
       "80.0      0.426441  0.349901     0.023857  0.152087  0.047714\n",
       "90.0      0.540373  0.322981     0.012422  0.093168  0.031056"
      ]
     },
     "execution_count": 10,
     "metadata": {},
     "output_type": "execute_result"
    }
   ],
   "source": [
    "ctgeral=pd.crosstab(df.IDADE,df.ENSINO).apply(lambda r: r/r.sum(), axis=1)\n",
    "ctgeral\n",
    "\n",
    "#As crosstabs e os gráficos estarão em porcentagem para que a maior quantidade de pessoas mais jovens no país não interfira\n",
    "#com a pesquisa e com os resultados."
   ]
  },
  {
   "cell_type": "code",
   "execution_count": 11,
   "metadata": {},
   "outputs": [
    {
     "data": {
      "image/png": "[encoded data removed]",
      "text/plain": [
       "<matplotlib.figure.Figure at 0x23bed4410f0>"
      ]
     },
     "metadata": {},
     "output_type": "display_data"
    }
   ],
   "source": [
    "ctgeral.plot(kind='bar', color=(\"red\",\"blue\",\"green\",\"yellow\",\"Purple\"))\n",
    "plt.ylim((0,1))\n",
    "plt.ylabel(\"Porcentagem da população\")\n",
    "plt.gca().invert_xaxis()"
   ]
  },
  {
   "cell_type": "markdown",
   "metadata": {},
   "source": [
    "Analisando esse gráfico, a diminuição no analfabetismo e o aumento dos ensinos fundamental e colegial mostram que nos 60 anos presentes nessa pesquisa a escolaridade média no país melhorou muito. Entretanto, não podemos assumir que como houve uma melhora geral, cada região teve uma melhora equivalente. Portanto, agora faremos as mesmas análises para cada região do Brasil."
   ]
  },
  {
   "cell_type": "markdown",
   "metadata": {},
   "source": [
    "## Norte"
   ]
  },
  {
   "cell_type": "code",
   "execution_count": 12,
   "metadata": {},
   "outputs": [
    {
     "name": "stderr",
     "output_type": "stream",
     "text": [
      "C:\\Users\\Alexandre\\Anaconda3\\lib\\site-packages\\ipykernel_launcher.py:6: SettingWithCopyWarning: \n",
      "A value is trying to be set on a copy of a slice from a DataFrame\n",
      "\n",
      "See the caveats in the documentation: http://pandas.pydata.org/pandas-docs/stable/indexing.html#indexing-view-versus-copy\n",
      "  \n",
      "C:\\Users\\Alexandre\\Anaconda3\\lib\\site-packages\\IPython\\core\\interactiveshell.py:2910: SettingWithCopyWarning: \n",
      "A value is trying to be set on a copy of a slice from a DataFrame\n",
      "\n",
      "See the caveats in the documentation: http://pandas.pydata.org/pandas-docs/stable/indexing.html#indexing-view-versus-copy\n",
      "  exec(code_obj, self.user_global_ns, self.user_ns)\n"
     ]
    },
    {
     "data": {
      "text/plain": [
       "Text(0.5,0.98,'Análise da Região Norte')"
      ]
     },
     "execution_count": 12,
     "metadata": {},
     "output_type": "execute_result"
    },
    {
     "data": {
      "image/png": "[encoded data removed]",
      "text/plain": [
       "<matplotlib.figure.Figure at 0x23baa8e83c8>"
      ]
     },
     "metadata": {},
     "output_type": "display_data"
    }
   ],
   "source": [
    "dftemp=df[[\"IDADE\",\"REGIAO\",\"ENSINO\"]]\n",
    "for x in range(len(dftemp.REGIAO)):\n",
    "    i=dftemp.REGIAO[x]\n",
    "    if not i == \"Norte\":\n",
    "        i=np.nan\n",
    "    dftemp.REGIAO[x]=i\n",
    "\n",
    "dftemp=dftemp.dropna(how=\"any\")\n",
    "ctnorte=pd.crosstab(dftemp.IDADE,dftemp.ENSINO).apply(lambda r: r/r.sum(), axis=1)\n",
    "ctnorte.plot(kind='bar', color=(\"red\",\"blue\",\"green\",\"yellow\",\"Purple\"))\n",
    "plt.ylim((0,1))\n",
    "plt.ylabel(\"Porcentagem da população\")\n",
    "plt.gca().invert_xaxis()\n",
    "plt.suptitle('Análise da Região Norte')"
   ]
  },
  {
   "cell_type": "markdown",
   "metadata": {},
   "source": [
    "## Nordeste"
   ]
  },
  {
   "cell_type": "code",
   "execution_count": 13,
   "metadata": {},
   "outputs": [
    {
     "name": "stderr",
     "output_type": "stream",
     "text": [
      "C:\\Users\\Alexandre\\Anaconda3\\lib\\site-packages\\ipykernel_launcher.py:6: SettingWithCopyWarning: \n",
      "A value is trying to be set on a copy of a slice from a DataFrame\n",
      "\n",
      "See the caveats in the documentation: http://pandas.pydata.org/pandas-docs/stable/indexing.html#indexing-view-versus-copy\n",
      "  \n",
      "C:\\Users\\Alexandre\\Anaconda3\\lib\\site-packages\\IPython\\core\\interactiveshell.py:2910: SettingWithCopyWarning: \n",
      "A value is trying to be set on a copy of a slice from a DataFrame\n",
      "\n",
      "See the caveats in the documentation: http://pandas.pydata.org/pandas-docs/stable/indexing.html#indexing-view-versus-copy\n",
      "  exec(code_obj, self.user_global_ns, self.user_ns)\n"
     ]
    },
    {
     "data": {
      "text/plain": [
       "Text(0.5,0.98,'Análise da Região Nordeste')"
      ]
     },
     "execution_count": 13,
     "metadata": {},
     "output_type": "execute_result"
    },
    {
     "data": {
      "image/png": "[encoded data removed]",
      "text/plain": [
       "<matplotlib.figure.Figure at 0x23bed5ebc18>"
      ]
     },
     "metadata": {},
     "output_type": "display_data"
    }
   ],
   "source": [
    "dftemp=df[[\"IDADE\",\"REGIAO\",\"ENSINO\"]]\n",
    "for x in range(len(dftemp.REGIAO)):\n",
    "    i=dftemp.REGIAO[x]\n",
    "    if not i == \"Nordeste\":\n",
    "        i=np.nan\n",
    "    dftemp.REGIAO[x]=i\n",
    "\n",
    "dftemp=dftemp.dropna(how=\"any\")\n",
    "ctnordeste=pd.crosstab(dftemp.IDADE,dftemp.ENSINO).apply(lambda r: r/r.sum(), axis=1)\n",
    "ctnordeste.plot(kind='bar', color=(\"red\",\"blue\",\"green\",\"yellow\",\"Purple\"))\n",
    "plt.ylim((0,1))\n",
    "plt.ylabel(\"Porcentagem da população\")\n",
    "plt.gca().invert_xaxis()\n",
    "plt.suptitle('Análise da Região Nordeste')"
   ]
  },
  {
   "cell_type": "markdown",
   "metadata": {},
   "source": [
    "## Centro-Oeste"
   ]
  },
  {
   "cell_type": "code",
   "execution_count": 14,
   "metadata": {},
   "outputs": [
    {
     "name": "stderr",
     "output_type": "stream",
     "text": [
      "C:\\Users\\Alexandre\\Anaconda3\\lib\\site-packages\\ipykernel_launcher.py:6: SettingWithCopyWarning: \n",
      "A value is trying to be set on a copy of a slice from a DataFrame\n",
      "\n",
      "See the caveats in the documentation: http://pandas.pydata.org/pandas-docs/stable/indexing.html#indexing-view-versus-copy\n",
      "  \n",
      "C:\\Users\\Alexandre\\Anaconda3\\lib\\site-packages\\IPython\\core\\interactiveshell.py:2910: SettingWithCopyWarning: \n",
      "A value is trying to be set on a copy of a slice from a DataFrame\n",
      "\n",
      "See the caveats in the documentation: http://pandas.pydata.org/pandas-docs/stable/indexing.html#indexing-view-versus-copy\n",
      "  exec(code_obj, self.user_global_ns, self.user_ns)\n"
     ]
    },
    {
     "data": {
      "text/plain": [
       "Text(0.5,0.98,'Análise da Região Centro-Oeste')"
      ]
     },
     "execution_count": 14,
     "metadata": {},
     "output_type": "execute_result"
    },
    {
     "data": {
      "image/png": "[encoded data removed]",
      "text/plain": [
       "<matplotlib.figure.Figure at 0x23baa906128>"
      ]
     },
     "metadata": {},
     "output_type": "display_data"
    }
   ],
   "source": [
    "dftemp=df[[\"IDADE\",\"REGIAO\",\"ENSINO\"]]\n",
    "for x in range(len(dftemp.REGIAO)):\n",
    "    i=dftemp.REGIAO[x]\n",
    "    if not i == \"Centro Oeste\":\n",
    "        i=np.nan\n",
    "    dftemp.REGIAO[x]=i\n",
    "\n",
    "dftemp=dftemp.dropna(how=\"any\")\n",
    "ctoeste=pd.crosstab(dftemp.IDADE,dftemp.ENSINO).apply(lambda r: r/r.sum(), axis=1)\n",
    "ctoeste.plot(kind='bar', color=(\"red\",\"blue\",\"green\",\"yellow\",\"Purple\"))\n",
    "plt.ylim((0,1))\n",
    "plt.ylabel(\"Porcentagem da população\")\n",
    "plt.gca().invert_xaxis()\n",
    "plt.suptitle('Análise da Região Centro-Oeste')"
   ]
  },
  {
   "cell_type": "markdown",
   "metadata": {},
   "source": [
    "## Sudeste"
   ]
  },
  {
   "cell_type": "code",
   "execution_count": 15,
   "metadata": {},
   "outputs": [
    {
     "name": "stderr",
     "output_type": "stream",
     "text": [
      "C:\\Users\\Alexandre\\Anaconda3\\lib\\site-packages\\ipykernel_launcher.py:6: SettingWithCopyWarning: \n",
      "A value is trying to be set on a copy of a slice from a DataFrame\n",
      "\n",
      "See the caveats in the documentation: http://pandas.pydata.org/pandas-docs/stable/indexing.html#indexing-view-versus-copy\n",
      "  \n",
      "C:\\Users\\Alexandre\\Anaconda3\\lib\\site-packages\\IPython\\core\\interactiveshell.py:2910: SettingWithCopyWarning: \n",
      "A value is trying to be set on a copy of a slice from a DataFrame\n",
      "\n",
      "See the caveats in the documentation: http://pandas.pydata.org/pandas-docs/stable/indexing.html#indexing-view-versus-copy\n",
      "  exec(code_obj, self.user_global_ns, self.user_ns)\n"
     ]
    },
    {
     "data": {
      "text/plain": [
       "Text(0.5,0.98,'Análise da Região Sudeste')"
      ]
     },
     "execution_count": 15,
     "metadata": {},
     "output_type": "execute_result"
    },
    {
     "data": {
      "image/png": "[encoded data removed]",
      "text/plain": [
       "<matplotlib.figure.Figure at 0x23baa850908>"
      ]
     },
     "metadata": {},
     "output_type": "display_data"
    }
   ],
   "source": [
    "dftemp=df[[\"IDADE\",\"REGIAO\",\"ENSINO\"]]\n",
    "for x in range(len(dftemp.REGIAO)):\n",
    "    i=dftemp.REGIAO[x]\n",
    "    if not i == \"Sudeste\":\n",
    "        i=np.nan\n",
    "    dftemp.REGIAO[x]=i\n",
    "\n",
    "dftemp=dftemp.dropna(how=\"any\")\n",
    "ctsudeste=pd.crosstab(dftemp.IDADE,dftemp.ENSINO).apply(lambda r: r/r.sum(), axis=1)\n",
    "ctsudeste.plot(kind='bar', color=(\"red\",\"blue\",\"green\",\"yellow\",\"Purple\"))\n",
    "plt.ylim((0,1))\n",
    "plt.ylabel(\"Porcentagem da população\")\n",
    "plt.gca().invert_xaxis()\n",
    "plt.suptitle('Análise da Região Sudeste')"
   ]
  },
  {
   "cell_type": "markdown",
   "metadata": {},
   "source": [
    "## Sul"
   ]
  },
  {
   "cell_type": "code",
   "execution_count": 16,
   "metadata": {},
   "outputs": [
    {
     "name": "stderr",
     "output_type": "stream",
     "text": [
      "C:\\Users\\Alexandre\\Anaconda3\\lib\\site-packages\\ipykernel_launcher.py:6: SettingWithCopyWarning: \n",
      "A value is trying to be set on a copy of a slice from a DataFrame\n",
      "\n",
      "See the caveats in the documentation: http://pandas.pydata.org/pandas-docs/stable/indexing.html#indexing-view-versus-copy\n",
      "  \n",
      "C:\\Users\\Alexandre\\Anaconda3\\lib\\site-packages\\IPython\\core\\interactiveshell.py:2910: SettingWithCopyWarning: \n",
      "A value is trying to be set on a copy of a slice from a DataFrame\n",
      "\n",
      "See the caveats in the documentation: http://pandas.pydata.org/pandas-docs/stable/indexing.html#indexing-view-versus-copy\n",
      "  exec(code_obj, self.user_global_ns, self.user_ns)\n"
     ]
    },
    {
     "data": {
      "text/plain": [
       "Text(0.5,0.98,'Análise da Região Sul')"
      ]
     },
     "execution_count": 16,
     "metadata": {},
     "output_type": "execute_result"
    },
    {
     "data": {
      "image/png": "[encoded data removed]",
      "text/plain": [
       "<matplotlib.figure.Figure at 0x23baa971588>"
      ]
     },
     "metadata": {},
     "output_type": "display_data"
    }
   ],
   "source": [
    "dftemp=df[[\"IDADE\",\"REGIAO\",\"ENSINO\"]]\n",
    "for x in range(len(dftemp.REGIAO)):\n",
    "    i=dftemp.REGIAO[x]\n",
    "    if not i == \"Sul\":\n",
    "        i=np.nan\n",
    "    dftemp.REGIAO[x]=i\n",
    "\n",
    "dftemp=dftemp.dropna(how=\"any\")\n",
    "ctsul=pd.crosstab(dftemp.IDADE,dftemp.ENSINO).apply(lambda r: r/r.sum(), axis=1)\n",
    "ctsul.plot(kind='bar', color=(\"red\",\"blue\",\"green\",\"yellow\",\"Purple\"))\n",
    "plt.ylim((0,1))\n",
    "plt.ylabel(\"Porcentagem da população\")\n",
    "plt.gca().invert_xaxis()\n",
    "plt.suptitle('Análise da Região Sul')"
   ]
  },
  {
   "cell_type": "markdown",
   "metadata": {},
   "source": [
    "___\n",
    "## Conclusão "
   ]
  },
  {
   "cell_type": "markdown",
   "metadata": {
    "collapsed": true
   },
   "source": [
    "Descreva aqui suas conclusões!"
   ]
  },
  {
   "cell_type": "code",
   "execution_count": null,
   "metadata": {},
   "outputs": [],
   "source": [
    "#comeco 9:11"
   ]
  }
 ],
 "metadata": {
  "anaconda-cloud": {},
  "kernelspec": {
   "display_name": "Python 3",
   "language": "python",
   "name": "python3"
  },
  "language_info": {
   "codemirror_mode": {
    "name": "ipython",
    "version": 3
   },
   "file_extension": ".py",
   "mimetype": "text/x-python",
   "name": "python",
   "nbconvert_exporter": "python",
   "pygments_lexer": "ipython3",
   "version": "3.6.4"
  }
 },
 "nbformat": 4,
 "nbformat_minor": 1
}
