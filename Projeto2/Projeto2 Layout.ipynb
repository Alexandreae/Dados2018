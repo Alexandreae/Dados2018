{
 "cells": [
  {
   "cell_type": "markdown",
   "metadata": {},
   "source": [
    "___\n",
    "# Ciência dos Dados - PROJETO 2"
   ]
  },
  {
   "cell_type": "markdown",
   "metadata": {},
   "source": [
    "___\n",
    "## Nome 1: Alexandre Edington\n",
    "\n",
    "## Nome 2: Bruno Cury\n",
    "\n",
    "\n",
    "___"
   ]
  },
  {
   "cell_type": "markdown",
   "metadata": {},
   "source": [
    "___\n",
    "\n",
    "## 1. Problema\n",
    "\n",
    "O Classificador Naive-Bayes, o qual se baseia no uso do teorema de Bayes, é largamente utilizado em filtros anti-spam de e-mails. O classificador permite calcular qual a probabilidade de uma mensagem ser SPAM considerando as palavras em seu conteúdo e, de forma complementar, permite calcular a probabilidade de uma mensagem ser HAM dada as palavras descritas na mensagem.\n",
    "\n",
    "Para realizar o MVP (minimum viable product) do projeto, você precisa programar uma versão do classificador que \"aprende\" o que é uma mensagem SPAM considerando uma base de treinamento e comparar o desempenho dos resultados com uma base de testes. \n"
   ]
  },
  {
   "cell_type": "markdown",
   "metadata": {},
   "source": [
    "___\n",
    "## 2. Separação da base de dados em Treinamento e Teste\n",
    "\n",
    "A base de dados deve ser separada em duas partes, aleatoriamente, considerando: \n",
    "    \n",
    "    75% dos dados para a parte Treinamento; e\n",
    "    25% dos dados para a parte Teste."
   ]
  },
  {
   "cell_type": "code",
   "execution_count": 1,
   "metadata": {},
   "outputs": [],
   "source": [
    "import pandas as pd\n",
    "import os\n",
    "import matplotlib.pyplot as plt\n",
    "import numpy as np\n",
    "import math"
   ]
  },
  {
   "cell_type": "code",
   "execution_count": 2,
   "metadata": {},
   "outputs": [
    {
     "name": "stdout",
     "output_type": "stream",
     "text": [
      "Esperamos trabalhar no diretório\n",
      "C:\\Users\\alexa\\Downloads\n"
     ]
    }
   ],
   "source": [
    "print('Esperamos trabalhar no diretório')\n",
    "print(os.getcwd())\n",
    "\n",
    "dados = pd.read_excel('spamham.xlsx',sep=',') \n",
    "pd.options.mode.chained_assignment = None"
   ]
  },
  {
   "cell_type": "markdown",
   "metadata": {},
   "source": [
    "Começamos o trabalho na célula abaixo, onde vamos primeiro filtrar a base de dados, tirando todos os carácteres que não agregarão valor à nossa análise. Após ter realizado a limpeza dos dados partiremos para a separação dos dados, que deve ser feita aleatoriamente, com proporção de três quartos do dataframe indo para o Treinamento e um quarto indo para o Teste."
   ]
  },
  {
   "cell_type": "code",
   "execution_count": 3,
   "metadata": {},
   "outputs": [],
   "source": [
    "dados[\"Email\"] = dados.Email.str.replace(\",\",\" \")\n",
    "dados[\"Email\"] = dados.Email.str.replace(\"$\",\" \")\n",
    "dados[\"Email\"] = dados.Email.str.replace(\"+\",\" \")\n",
    "dados[\"Email\"] = dados.Email.str.replace(\"-\",\" \")\n",
    "dados[\"Email\"] = dados.Email.str.replace(\"=\",\" \")\n",
    "dados[\"Email\"] = dados.Email.str.replace(\"%\",\" \")\n",
    "dados[\"Email\"] = dados.Email.str.replace(\"*\",\" \")\n",
    "dados[\"Email\"] = dados.Email.str.replace(\"/\",\" \")\n",
    "dados[\"Email\"] = dados.Email.str.replace(\"/n\",\" \")\n",
    "dados[\"Email\"] = dados.Email.str.replace(\":\",\" \")\n",
    "dados[\"Email\"] = dados.Email.str.replace(\"(\",\" \")\n",
    "dados[\"Email\"] = dados.Email.str.replace(\")\",\" \")\n",
    "dados[\"Email\"] = dados.Email.str.replace(\"~\",\" \")\n",
    "dados[\"Email\"] = dados.Email.str.replace(\"[\",\" \")\n",
    "dados[\"Email\"] = dados.Email.str.replace(\"]\",\" \")\n",
    "dados[\"Email\"] = dados.Email.str.replace(\".\",\" \")\n",
    "dados[\"Email\"] = dados.Email.str.replace(\";\",\" \")\n",
    "dados[\"Email\"] = dados.Email.str.replace(\"_\",\" \")\n",
    "dados[\"Email\"] = dados.Email.str.replace(\"  \",\" \")\n",
    "dados[\"Email\"] = dados.Email.str.lower()\n",
    "dados[\"Email\"] = dados.Email.str.split()\n",
    "\n",
    "\n",
    "\n",
    "Treinamento = dados.sample(n=None, frac=0.75, replace=False).reset_index()\n",
    "Teste = dados.sample(n=None, frac=0.25, replace=False).reset_index()\n",
    "\n",
    "Treinamento = Treinamento.drop([\"index\"],axis = 1)\n",
    "Teste = Teste.drop([\"index\"],axis = 1)"
   ]
  },
  {
   "cell_type": "code",
   "execution_count": 4,
   "metadata": {},
   "outputs": [],
   "source": [
    "#i=0.5\n",
    "#T = Teste.apply(Tester2,axis=1)\n",
    "#Teste[\"Naive\"] = T\n",
    "#ct=pd.crosstab(Teste.Class,Teste.Naive)\n",
    "#print(ct)\n",
    "#    if not hasattr(ct, 'ham'):\n",
    "#        print(\"n tem ham\")\n",
    "#    if not hasattr(ct, 'spam'):\n",
    "#        print(\"n tem spam\")\n",
    "#tempc1=(ct.spam[\"spam\"]*ct.ham[\"ham\"])-(ct.spam[\"ham\"]*ct.ham[\"spam\"])\n",
    "#tempc2=(ct.spam[\"spam\"]+ct.ham[\"spam\"])*(ct.spam[\"spam\"]+ct.spam[\"ham\"])*(ct.ham[\"ham\"]+ct.ham[\"spam\"])*(ct.ham[\"ham\"]+ct.spam[\"ham\"])\n",
    "#print(tempc1/math.sqrt(tempc2))"
   ]
  },
  {
   "cell_type": "markdown",
   "metadata": {},
   "source": [
    "___\n",
    "## 3. Classificador Naive-Bayes"
   ]
  },
  {
   "cell_type": "code",
   "execution_count": 5,
   "metadata": {},
   "outputs": [
    {
     "data": {
      "text/plain": [
       "ham     3588\n",
       "spam     591\n",
       "Name: Class, dtype: int64"
      ]
     },
     "execution_count": 5,
     "metadata": {},
     "output_type": "execute_result"
    }
   ],
   "source": [
    "Treinamento[\"Class\"].value_counts()"
   ]
  },
  {
   "cell_type": "markdown",
   "metadata": {},
   "source": [
    "Começamos agora a estruturação de nosso algoritmo Naive Bayes, para isso iniciaremos calculando as probabilidades marginais e condicionais necessárias para classificar uma nova mensagem."
   ]
  },
  {
   "cell_type": "code",
   "execution_count": 6,
   "metadata": {},
   "outputs": [
    {
     "name": "stdout",
     "output_type": "stream",
     "text": [
      "A probabilidade de receber um ham é:  85.8578607322326\n",
      "A probabilidade de receber um spam é:  14.142139267767408\n"
     ]
    }
   ],
   "source": [
    "PHAM = (Treinamento[\"Class\"].value_counts()[\"ham\"]/4179)*100\n",
    "print(\"A probabilidade de receber um ham é:  \"+str(PHAM))\n",
    "\n",
    "PSPAM = (Treinamento[\"Class\"].value_counts()[\"spam\"]/4179)*100\n",
    "print(\"A probabilidade de receber um spam é:  \" +str(PSPAM))"
   ]
  },
  {
   "cell_type": "markdown",
   "metadata": {},
   "source": [
    "Como não estamos trabalhando com números, e sim frases, temos de transformar estas frases em informações que possam ser utilizadas em nosso algoritmo, fazendo o papel de nossas \"features\". Vamos analisar as frases ignorando a ordem e construção das mesmas, tratando cada email como um conjunto das palavras que ele contém.\n",
    "\n",
    "Para isso na célula abaixo estamos mapeando, por meio de um dicionário e contadores, quantas vezes uma palavra aparece em e-mails que são classificados como spam ou ham, individualmente. Ao final teremos a informação exata de quantas vezes cada palavra apareceu em Spams ou em Hams, com cada palavra assumindo o papel das \"Keys\" e os valores dentro delas representando a quantidade de vezes que ela aparece em e-mails hams e e-mails Spams, juntamente com a probabilidade de ela aparecer em e-mails ham ou spam, respectivamente."
   ]
  },
  {
   "cell_type": "code",
   "execution_count": 7,
   "metadata": {},
   "outputs": [],
   "source": [
    "dicti = {}\n",
    "#dicti[\"palavra\"]= ham,spam,pham,pspam\n",
    "for i in range(4179):\n",
    "    for palavra in Treinamento.Email[i]:\n",
    "        if Treinamento.Class[i] == \"ham\":\n",
    "            if palavra not in dicti:\n",
    "                dicti[palavra] = 1,0\n",
    "            else:\n",
    "                tempa=dicti[palavra][0]\n",
    "                tempb=dicti[palavra][1]\n",
    "                dicti[palavra]=tempa+1,tempb\n",
    "        else:\n",
    "            if palavra not in dicti:\n",
    "                dicti[palavra] = 0,1\n",
    "            else:\n",
    "                tempa=dicti[palavra][0]\n",
    "                tempb=dicti[palavra][1]\n",
    "                dicti[palavra]=tempa,tempb+1\n",
    "\n",
    "totalspam=0\n",
    "totalham=0\n",
    "for i in dicti:\n",
    "    totalham+=dicti[i][0]\n",
    "    totalspam+=dicti[i][1]\n",
    "#print(totalham, totalspam)\n",
    "for i in dicti:\n",
    "    tempa=dicti[i][0]\n",
    "    tempb=dicti[i][1]\n",
    "    pham=(tempa+1)/((totalham*2)+totalspam)\n",
    "    pspam=(tempb+1)/((totalspam*2)+totalham)\n",
    "    dicti[i]=tempa,tempb,pham,pspam\n",
    "\n",
    "pspamtotal=565/(3616+565)\n",
    "phamtotal=3616/(3616+565)"
   ]
  },
  {
   "cell_type": "markdown",
   "metadata": {},
   "source": [
    "Agora o que resta fazer é calcular a probabilidade de cada frase ser Spam ou Ham por meio da probabilidade de cada palavra estar em Spam ou Ham, porém, nesta etapa encontramos um problema, se a probabilidade de uma palavra estar dentro de Spam ou Ham for zero isso irá zerar todo o nosso cálculo, já que só estamos fazendo multiplicações e divisões. Para resolver este problema usamos um princípio chamado \"Laplace Smoothing\", onde adicionamos 1 ao numerador e a somatória de todas as palavras possíveis no denominador, excluindo a chance de alguma probabilidade resultar em 0.\n",
    "\n",
    "Resolvendo este empecilho, precisamos agora multiplicar todas as probabilidades e compara-las para verificar qual é maior e plota-la como resposta.\n"
   ]
  },
  {
   "cell_type": "code",
   "execution_count": 8,
   "metadata": {},
   "outputs": [],
   "source": [
    "def naive(frase):\n",
    "    PS = PSPAM\n",
    "    PH = PHAM\n",
    "    for palavra in frase:\n",
    "        if palavra in dicti:\n",
    "            PS*= dicti[palavra][3]\n",
    "            PH*= dicti[palavra][2]\n",
    "        else:\n",
    "            PS = (PS+1)/8632\n",
    "            PH = (PH+1)/8632\n",
    "    if PS>PH:\n",
    "        return(\"spam\")\n",
    "    else:\n",
    "        return(\"ham\")"
   ]
  },
  {
   "cell_type": "markdown",
   "metadata": {},
   "source": [
    "Até o momento estávamos usando o dataframe \"Treinamento\" para construir nosso mecanismo, toda via, o algoritmo agora está pronto e devemos testa-lo. Para fazê-lo basta aplicar a função criada (naive) no dataframe \"Teste\" e comparar as respostas do algoritmo com as respostas dadas a priori.\n",
    "Fizemos isso adicionando uma nova coluna ao dataframe, ao lado da coluna de classificação, contendo a classificação do algoritmo, e por meio da análise e comparação das respostas conseguimos chegar nas medidas pedidas (% de negativos verdadeiros, % de positivos verdadeiros, % de positivos falsos e % de negativos falsos).\n"
   ]
  },
  {
   "cell_type": "code",
   "execution_count": 9,
   "metadata": {},
   "outputs": [],
   "source": [
    "def Tester(Teste):\n",
    "    frase = Teste.Email\n",
    "    return naive(frase)\n",
    "\n",
    "T = Teste.apply(Tester,axis=1)\n",
    "Teste[\"Naive\"] = T"
   ]
  },
  {
   "cell_type": "code",
   "execution_count": 10,
   "metadata": {},
   "outputs": [
    {
     "name": "stdout",
     "output_type": "stream",
     "text": [
      "A probabilidade de ocorrer um negativo verdadeiro é:  negativo verdadeiro    85.498923\n",
      "Name: Correcao, dtype: float64\n",
      "A probabilidade de ocorrer um positivo verdadeiro é:  positivo verdadeiro    11.773151\n",
      "Name: Correcao, dtype: float64\n",
      "A probabilidade de ocorrer um positivo falso é:  positivo falso    2.368988\n",
      "Name: Correcao, dtype: float64\n",
      "A probabilidade de ocorrer um negativo falso é:  negativo falso    0.358938\n",
      "Name: Correcao, dtype: float64\n"
     ]
    }
   ],
   "source": [
    "Teste.loc[(Teste.Class == \"ham\") & (Teste.Naive == \"ham\"),\"Correcao\"] = \"negativo verdadeiro\"\n",
    "Teste.loc[(Teste.Class == \"spam\") & (Teste.Naive == \"spam\"),\"Correcao\"] = \"positivo verdadeiro\"\n",
    "Teste.loc[(Teste.Class == \"spam\") & (Teste.Naive == \"ham\"),\"Correcao\"] = \"positivo falso\"\n",
    "Teste.loc[(Teste.Class == \"ham\") & (Teste.Naive == \"spam\"),\"Correcao\"] = \"negativo falso\"\n",
    "\n",
    "\n",
    "Teste_Neg_Ver = Teste.Correcao[Teste.Correcao == \"negativo verdadeiro\"].value_counts()\n",
    "Teste_Pos_Ver = Teste.Correcao[Teste.Correcao == \"positivo verdadeiro\"].value_counts()\n",
    "Teste_Pos_Fal = Teste.Correcao[Teste.Correcao == \"positivo falso\"].value_counts()\n",
    "Teste_Neg_Fal = Teste.Correcao[Teste.Correcao == \"negativo falso\"].value_counts()\n",
    "\n",
    "P_Neg_Ver = (Teste_Neg_Ver/len(Teste)*100)\n",
    "P_Pos_Ver = (Teste_Pos_Ver/len(Teste)*100)\n",
    "P_Pos_Fal = (Teste_Pos_Fal/len(Teste)*100)\n",
    "P_Neg_Fal = (Teste_Neg_Fal/len(Teste)*100)\n",
    "\n",
    "print(\"A probabilidade de ocorrer um negativo verdadeiro é:  \" +str(P_Neg_Ver))\n",
    "print(\"A probabilidade de ocorrer um positivo verdadeiro é:  \" +str(P_Pos_Ver))\n",
    "print(\"A probabilidade de ocorrer um positivo falso é:  \" +str(P_Pos_Fal))\n",
    "print(\"A probabilidade de ocorrer um negativo falso é:  \" +str(P_Neg_Fal))"
   ]
  },
  {
   "cell_type": "markdown",
   "metadata": {},
   "source": [
    "As medidas acima indicam o quão preciso é o seu classificador naive bayes. O teste nos retornou uma probabilidade altíssima de negativos verdadeiros, o que significa que estamos realmente acertando quando uma mensagem não é Spam, os positivos verdadeiros têm a segunda probabilidade mais alta, esta medida indica que marcamos uma mensagem como Spam e ela realmente era um Spam. As outras duas medidas indicam o quanto nosso algoritmo está errando na classificação dos e-mails, porém, o erro mais grave (negativos falsos) tem uma probabilidade de apenas 0.3% o que indica que o nosso algoritmo é um bom classificador."
   ]
  },
  {
   "cell_type": "markdown",
   "metadata": {},
   "source": [
    "___\n",
    "## 4. Curva ROC"
   ]
  },
  {
   "cell_type": "markdown",
   "metadata": {},
   "source": [
    "Para decidirmos o output do nosso algoritmo naive bayes comparamos as probabilidades do e-mail ser spam e ham e retornamos a maior, não obstante, em comparações de probabilidades próximas como 49% e 51% talvez a comparação de quem tem a maior probabilidade não seja a mais adequada, essa probabilidade é chamada de ponto de corte.\n",
    "\n",
    "A curva ROC vem como uma alternativa para descobrir o melhor ponto de corte possível. Começamos rodando o algoritmo para probabilidades de 1% a 100%, e a cada vez que rodamos o código extraímos duas medidas: Sensibilidade e Especificidade, compostas respectivamente, pelos acertos positivos sobre o total de acertos e pelos acertos negativos sobre o total de negativos.\n",
    "\n",
    "Os valores de Sensibilidade e Especificidade podem então serem dispostos em um gráfico denominado curva ROC, que apresenta no eixo das ordenadas os valores de sensibilidade e nas abscissas o complemento da especificidade, ou seja, o valor (1-especificidade).\n",
    "\n",
    "O Classificador perfeito apresentará uma reta alocada horizontalmente no topo do gráfico, toda via, este é um resultado dificílimo de ser alcançado. Um bom classificador irá mostrar uma linha entre a linha diagonal (que indica uma classificação aleatória como cara ou coroa) e a linha perfeita e quanto mais longe da linha diagonal, melhor o seu classificador.\n",
    "\n",
    "Para encontrar o melhor ponto de corte usamos o valor de (Phi) assim, podemos obter o limiar que apresente a melhor combinação de valores de especificidade e sensibilidade para o sistema.\n"
   ]
  },
  {
   "cell_type": "code",
   "execution_count": 11,
   "metadata": {},
   "outputs": [],
   "source": [
    "def naive2(frase,):\n",
    "    PS = PSPAM\n",
    "    PH = PHAM\n",
    "    for palavra in frase:\n",
    "        if palavra in dicti:\n",
    "            PS*= dicti[palavra][3]\n",
    "            PH*= dicti[palavra][2]\n",
    "        else:\n",
    "            PS = (PS+1)/8632\n",
    "            PH = (PH+1)/8632   \n",
    "        if PS > i*(PS+PH):\n",
    "            return(\"spam\")  \n",
    "        else:\n",
    "            return(\"ham\")\n",
    "def Tester2(Teste):\n",
    "    frase = Teste.Email\n",
    "    return naive2(frase)   "
   ]
  },
  {
   "cell_type": "code",
   "execution_count": 12,
   "metadata": {},
   "outputs": [],
   "source": [
    "LHAM=[] #especificidade\n",
    "LSPAM=[] #sensibilidade\n",
    "phi=[] # coeficiente de correlação de Matthews\n",
    "for i in np.arange(0,1,0.01): \n",
    "    T = Teste.apply(Tester2,axis=1)\n",
    "    Teste[\"Naive\"] = T\n",
    "    ct=pd.crosstab(Teste.Class,Teste.Naive)\n",
    "    if hasattr(ct,\"ham\") and hasattr(ct,\"spam\"):\n",
    "        tempa=ct.ham[\"ham\"]/(ct.ham[\"ham\"]+ct.spam[\"ham\"])\n",
    "        tempb=ct.spam[\"spam\"]/(ct.ham[\"spam\"]+ct.spam[\"spam\"])\n",
    "        tempc1=(ct.spam[\"spam\"]*ct.ham[\"ham\"])-(ct.spam[\"ham\"]*ct.ham[\"spam\"])\n",
    "        tempc2=(ct.spam[\"spam\"]+ct.ham[\"spam\"])*(ct.spam[\"spam\"]+ct.spam[\"ham\"])*(ct.ham[\"ham\"]+ct.ham[\"spam\"])*(ct.ham[\"ham\"]+ct.spam[\"ham\"])\n",
    "        LHAM.append(1-tempa)\n",
    "        LSPAM.append(tempb)\n",
    "        phi.append(tempc1/math.sqrt(tempc2))\n",
    "    elif hasattr(ct,\"ham\") and not hasattr(ct, \"spam\"):\n",
    "            tempa=1\n",
    "            tempb=0\n",
    "            tempc=0\n",
    "            LHAM.append(1-tempa)\n",
    "            LSPAM.append(tempb)\n",
    "            phi.append(tempc)\n",
    "    elif hasattr(ct,\"spam\") and not hasattr(ct,\"ham\"):\n",
    "            tempa=0\n",
    "            tempb=1\n",
    "            tempc=0\n",
    "            LHAM.append(1-tempa)\n",
    "            LSPAM.append(tempb)\n",
    "            phi.append(tempc)"
   ]
  },
  {
   "cell_type": "code",
   "execution_count": 13,
   "metadata": {},
   "outputs": [
    {
     "data": {
      "image/png": "[encoded data removed]",
      "text/plain": [
       "<Figure size 432x288 with 1 Axes>"
      ]
     },
     "metadata": {},
     "output_type": "display_data"
    }
   ],
   "source": [
    "plt.plot(LHAM,LSPAM)\n",
    "plt.axis([0,1,0,1])\n",
    "plt.title(\"Curva ROC\")\n",
    "plt.xlabel(\"1-Especificidade\")\n",
    "plt.ylabel(\"Sensibilidade\")\n",
    "plt.show()"
   ]
  },
  {
   "cell_type": "code",
   "execution_count": 14,
   "metadata": {},
   "outputs": [
    {
     "name": "stdout",
     "output_type": "stream",
     "text": [
      "Através do Coeficiente de Correlação de Matthews, calculado para cada ponto da curva, o melhor ponto de corte é 0.11\n"
     ]
    }
   ],
   "source": [
    "pc=phi.index(max(phi))/100\n",
    "print(\"Através do Coeficiente de Correlação de Matthews, calculado para cada ponto da curva, o melhor ponto de corte é \" +str(pc))"
   ]
  },
  {
   "cell_type": "markdown",
   "metadata": {},
   "source": [
    "___\n",
    "## 5. Qualidade do Classificador alterando a base de treinamento"
   ]
  },
  {
   "cell_type": "markdown",
   "metadata": {},
   "source": [
    "É razoável pensar que os dataframes utilizados até agora (Treinamento e Teste), mesmo sendo gerados aleatoriamente representam uma das muitas divisões possíveis da proporção 75% e 25% dos dados, com isso em mente vamos variar nossa base de dados aleatoriamente 2000 vezes para observar os impactos causados em nosso classificador através de um histograma."
   ]
  },
  {
   "cell_type": "code",
   "execution_count": 15,
   "metadata": {},
   "outputs": [],
   "source": [
    "PPV=[] #porcentagem de positivos verdadeiros\n",
    "PNV=[] #porcentagem de negativos verdadeiros\n",
    "for i in range(2000):\n",
    "    #Separação da base de dados\n",
    "    Treinamento = dados.sample(n=None, frac=0.75, replace=False).reset_index()\n",
    "    Teste = dados.sample(n=None, frac=0.25, replace=False).reset_index()\n",
    "    Treinamento = Treinamento.drop([\"index\"],axis = 1)\n",
    "    Teste = Teste.drop([\"index\"],axis = 1)\n",
    "    \n",
    "    #Aplicação do Naive-Bayes\n",
    "    T = Teste.apply(Tester,axis=1)\n",
    "    Teste[\"Naive\"] = T\n",
    "    \n",
    "    #salvando as porcentagens\n",
    "    ct=pd.crosstab(Teste.Class,Teste.Naive)\n",
    "    tempa=ct.spam[\"spam\"]/(ct.spam[\"spam\"]+ct.spam[\"ham\"])*100\n",
    "    tempb=ct.ham[\"ham\"]/(ct.ham[\"ham\"]+ct.ham[\"spam\"])*100\n",
    "    PPV.append(tempa)\n",
    "    PNV.append(tempb)"
   ]
  },
  {
   "cell_type": "code",
   "execution_count": 16,
   "metadata": {},
   "outputs": [
    {
     "data": {
      "image/png": "[encoded data removed]",
      "text/plain": [
       "<Figure size 1008x288 with 2 Axes>"
      ]
     },
     "metadata": {},
     "output_type": "display_data"
    }
   ],
   "source": [
    "fig = plt.figure(figsize=(14,4))\n",
    "plt.subplot(121)\n",
    "plt.hist(PPV,bins=100,color=\"red\")\n",
    "plt.title(\"Porcentagem de Positivos Verdadeiros\")\n",
    "\n",
    "plt.subplot(122)\n",
    "plt.hist(PNV,bins=100)\n",
    "plt.title(\"Porcentagem de Negativos Verdadeiros\")\n",
    "\n",
    "plt.tight_layout()\n",
    "plt.show()"
   ]
  },
  {
   "cell_type": "code",
   "execution_count": 27,
   "metadata": {},
   "outputs": [
    {
     "name": "stdout",
     "output_type": "stream",
     "text": [
      "A média da porcentagem de positivos verdadeiros é 97.68749355093617\n",
      "A média da porcentagem de negativos verdadeiros é 97.77024692147911\n"
     ]
    }
   ],
   "source": [
    "print(\"A média da porcentagem de positivos verdadeiros é \" + str(np.mean(PPV)))\n",
    "print(\"A média da porcentagem de negativos verdadeiros é \" + str(np.mean(PNV)))"
   ]
  },
  {
   "cell_type": "markdown",
   "metadata": {},
   "source": [
    "Por intermédio dos resultados dos histogramas é razoável concluir que a média das duas porcentagens de acertos e é muito parecida, mostrando uma consistência no código. Além disso, ao rodarmos o código 2000 vezes chegamos a uma média de acertos de 97%, mostrando que fazer a base de dados múltiplas vezes o torna muito mais preciso."
   ]
  }
 ],
 "metadata": {
  "anaconda-cloud": {},
  "kernelspec": {
   "display_name": "Python 3",
   "language": "python",
   "name": "python3"
  },
  "language_info": {
   "codemirror_mode": {
    "name": "ipython",
    "version": 3
   },
   "file_extension": ".py",
   "mimetype": "text/x-python",
   "name": "python",
   "nbconvert_exporter": "python",
   "pygments_lexer": "ipython3",
   "version": "3.6.4"
  }
 },
 "nbformat": 4,
 "nbformat_minor": 1
}
